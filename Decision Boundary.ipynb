{
 "cells": [
  {
   "cell_type": "code",
   "execution_count": 1,
   "id": "e268c569",
   "metadata": {},
   "outputs": [],
   "source": [
    "import numpy as np \n",
    "import matplotlib.pyplot as plt\n",
    "from matplotlib.colors import ListedColormap\n",
    "from sklearn import neighbors,datasets\n",
    "from sklearn.preprocessing import StandardScaler\n",
    "from ipywidgets import interact,fixed"
   ]
  },
  {
   "cell_type": "code",
   "execution_count": 3,
   "id": "bc03cabc",
   "metadata": {},
   "outputs": [],
   "source": [
    "def load_data():\n",
    "    cancer = datasets.load_breast_cancer()\n",
    "    return cancer"
   ]
  },
  {
   "cell_type": "code",
   "execution_count": 5,
   "id": "9dec2dc9",
   "metadata": {},
   "outputs": [],
   "source": [
    "def plot_decision_boundaries(n_neighbors,data,labels):\n",
    "    h=.02\n",
    "    # Step size in the mesh\n",
    "    cmap_light=ListedColormap(['orange','blue'])\n",
    "    cmap_bold=ListedColormap(['darkorange','darkblue'])\n",
    "    # Create an instance of Neighbors Classifier and fit the data.\n",
    "    clf=neighbors.KNeighborsClassifier(n_neighbors)\n",
    "    clf.fit(data,labels)\n",
    "    # Determine the min and max values for the plot\n",
    "    x_min,x_max=data[:,0].min()-1,data[:,0].max()+1\n",
    "    y_min,y_max=data[:,1].min()-1,data[:,1].max()+1\n",
    "    # Create a mesh grid\n",
    "    xx,yy=np.meshgrid(np.arange(x_min,x_max,h),np.arange(y_min,y_max,h))\n",
    "    # Predict the function value for the whole grid\n",
    "    Z=clf.predict(np.c_[xx.ravel(),yy.ravel()])\n",
    "    Z=Z.reshape(xx.shape)\n",
    "    # Plot the contour and training points\n",
    "    plt.figure(figsize=(8,6))\n",
    "    plt.pcolormesh(xx,yy,Z,\n",
    "    cmap=cmap_light)\n",
    "    # Plot the training points\n",
    "    plt.scatter(data[:,0],data[:,1],c=labels,cmap=cmap_bold,edgecolor='k',s=20)\n",
    "    plt.xlim(xx.min(),xx.max())\n",
    "    plt.ylim(yy.min(),yy.max())\n",
    "    plt.title(f'2-Class classification (k ={n_neighbors})')\n",
    "    plt.show()"
   ]
  },
  {
   "cell_type": "code",
   "execution_count": 8,
   "id": "67c13242",
   "metadata": {},
   "outputs": [],
   "source": [
    "cancer=load_data()"
   ]
  },
  {
   "cell_type": "code",
   "execution_count": 9,
   "id": "0bb4dbbb",
   "metadata": {},
   "outputs": [],
   "source": [
    "X=StandardScaler().fit_transform(cancer.data[:, :2])\n",
    "y=cancer.target"
   ]
  },
  {
   "cell_type": "code",
   "execution_count": 10,
   "id": "e4d27396",
   "metadata": {
    "scrolled": true
   },
   "outputs": [
    {
     "data": {
      "application/vnd.jupyter.widget-view+json": {
       "model_id": "8d306d02b54f4babbac682c782fe9b20",
       "version_major": 2,
       "version_minor": 0
      },
      "text/plain": [
       "interactive(children=(IntSlider(value=10, description='n_neighbors', max=20, min=1), Output()), _dom_classes=(…"
      ]
     },
     "metadata": {},
     "output_type": "display_data"
    },
    {
     "data": {
      "text/plain": [
       "<function __main__.plot_decision_boundaries(n_neighbors, data, labels)>"
      ]
     },
     "execution_count": 10,
     "metadata": {},
     "output_type": "execute_result"
    }
   ],
   "source": [
    "interact(plot_decision_boundaries,n_neighbors=(1,20),data=fixed(X),labels=fixed(y))"
   ]
  }
 ],
 "metadata": {
  "kernelspec": {
   "display_name": "Python 3 (ipykernel)",
   "language": "python",
   "name": "python3"
  },
  "language_info": {
   "codemirror_mode": {
    "name": "ipython",
    "version": 3
   },
   "file_extension": ".py",
   "mimetype": "text/x-python",
   "name": "python",
   "nbconvert_exporter": "python",
   "pygments_lexer": "ipython3",
   "version": "3.10.5"
  }
 },
 "nbformat": 4,
 "nbformat_minor": 5
}
